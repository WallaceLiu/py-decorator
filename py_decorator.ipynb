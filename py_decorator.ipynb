{
 "cells": [
  {
   "cell_type": "markdown",
   "metadata": {},
   "source": [
    "https://coolshell.cn/articles/11265.html"
   ]
  },
  {
   "cell_type": "markdown",
   "metadata": {},
   "source": [
    "# Hello World"
   ]
  },
  {
   "cell_type": "code",
   "execution_count": 30,
   "metadata": {},
   "outputs": [
    {
     "name": "stdout",
     "output_type": "stream",
     "text": [
      "hello, foo\n",
      "i am foo\n",
      "goodby, foo\n",
      "wrapper\n",
      "None\n"
     ]
    }
   ],
   "source": [
    "def hello(fn):\n",
    "    def wrapper():\n",
    "        print(\"hello, %s\" % fn.__name__)\n",
    "        fn()\n",
    "        print(\"goodby, %s\" % fn.__name__)\n",
    "    return wrapper\n",
    "\n",
    "@hello\n",
    "def foo():\n",
    "    print(\"i am foo\")\n",
    "\n",
    "foo()\n",
    "print(foo.__name__) #输出 foo\n",
    "print(foo.__doc__)  #输出 foo help doc"
   ]
  },
  {
   "cell_type": "markdown",
   "metadata": {},
   "source": [
    "输出:"
   ]
  },
  {
   "cell_type": "markdown",
   "metadata": {},
   "source": [
    "```\n",
    "hello, foo\n",
    "i am foo\n",
    "goodby, foo\n",
    "```"
   ]
  },
  {
   "cell_type": "markdown",
   "metadata": {},
   "source": [
    "# Decorator本质"
   ]
  },
  {
   "cell_type": "markdown",
   "metadata": {},
   "source": [
    "当用@decorator来修饰函数func时，如下所示:\n",
    "```python\n",
    "@decorator\n",
    "def func():\n",
    "    pass\n",
    "```\n",
    "解释器会解释成如下语句：\n",
    "```python\n",
    "func = decorator(func)\n",
    "```\n",
    "把一个函数当参数传到另一个函数中，然后再回调。"
   ]
  },
  {
   "cell_type": "markdown",
   "metadata": {},
   "source": [
    "但还有一个赋值，把decorator这个函数的返回值赋值回了原来的func。"
   ]
  },
  {
   "cell_type": "markdown",
   "metadata": {},
   "source": [
    "函数式编程中，函数是一等公民，一切皆函数，把函数当成变量来使用。所以，decorator必需返回了一个函数出来给func，这就是所谓的higher order function 高阶函数，否则，后面当func()调用的时候就会出错。 "
   ]
  },
  {
   "cell_type": "markdown",
   "metadata": {},
   "source": [
    "hello(foo)返回了wrapper()函数，所以，foo变成了wrapper的一个变量。而后面的foo()执行其实变成了wrapper()。"
   ]
  },
  {
   "cell_type": "markdown",
   "metadata": {},
   "source": [
    "知道这点本质，当看到有多个decorator或是带参数的decorator，就不会懵逼。\n",
    "- 多个decorator\n",
    "```python\n",
    "@decorator_one\n",
    "@decorator_two\n",
    "def func():\n",
    "    pass\n",
    "```\n",
    "相当于：\n",
    "```python\n",
    "func = decorator_one(decorator_two(func))\n",
    "```\n",
    "每个decorator叠加调用func。\n",
    "- 带参数的decorator：\n",
    "```python\n",
    "@decorator(arg1, arg2)\n",
    "def func():\n",
    "    pass\n",
    "```\n",
    "相当于：\n",
    "```python\n",
    "func = decorator(arg1,arg2)(func)\n",
    "```\n",
    "decorator(arg1, arg2)函数需要返回一个“真正的decorator”。"
   ]
  },
  {
   "cell_type": "markdown",
   "metadata": {},
   "source": [
    "# 带参数及多个Decrorator"
   ]
  },
  {
   "cell_type": "code",
   "execution_count": 16,
   "metadata": {},
   "outputs": [
    {
     "name": "stdout",
     "output_type": "stream",
     "text": [
      "<x class='bold_css'><y class='italic_css'><z class='italic_css'>hello world</z></y></x>\n"
     ]
    }
   ],
   "source": [
    "# hello = makeHtmlTag(arg1, arg2)(hello)\n",
    "def makeHtmlTag(tag, *args, **kwds): # 这里是参数\n",
    "    def real_decorator(fn): # 这里是fn\n",
    "        # 拼接css\n",
    "        css_class = \"class='{0}'\".format(kwds[\"css_class\"]) if \"css_class\" in kwds else \"\"\n",
    "        def wrapped(*args, **kwds):\n",
    "            return '<{0} {1}>{2}</{0}>'.format(tag, css_class, fn(*args, **kwds))\n",
    "        return wrapped\n",
    "    return real_decorator\n",
    "\n",
    "@makeHtmlTag(tag=\"x\", css_class=\"bold_css\")\n",
    "@makeHtmlTag(tag=\"y\", css_class=\"italic_css\")\n",
    "@makeHtmlTag(tag=\"z\", css_class=\"italic_css\")\n",
    "def hello():\n",
    "    return(\"hello world\")\n",
    "\n",
    "o = hello()\n",
    "print(o)"
   ]
  },
  {
   "cell_type": "markdown",
   "metadata": {},
   "source": [
    "makeHtmlTag有两个参数。所以，为了让 hello = makeHtmlTag(arg1, arg2)(hello) 成功，makeHtmlTag必需返回一个decorator。\n",
    "\n",
    "这就是为什么在makeHtmlTag中加入real_decorator()，这样，就可以进入到 decorator 的逻辑中—— decorator得返回一个wrapper，wrapper里回调hello。"
   ]
  },
  {
   "cell_type": "raw",
   "metadata": {},
   "source": [
    "如果觉得上面带参数的Decorator的函数嵌套太多，看下面的class形式。"
   ]
  },
  {
   "cell_type": "code",
   "execution_count": null,
   "metadata": {},
   "outputs": [],
   "source": [
    "# class式的 Decorator"
   ]
  },
  {
   "cell_type": "markdown",
   "metadata": {},
   "source": [
    "首先，先得说一下，decorator的class方式，还是看个示例："
   ]
  },
  {
   "cell_type": "code",
   "execution_count": 19,
   "metadata": {},
   "outputs": [],
   "source": [
    "class myDecorator(object):\n",
    " \n",
    "    def __init__(self, fn):\n",
    "        print(\"inside myDecorator.__init__()\")\n",
    "        self.fn = fn\n",
    " \n",
    "    def __call__(self):\n",
    "        self.fn()\n",
    "        print(\"inside myDecorator.__call__()\")"
   ]
  },
  {
   "cell_type": "code",
   "execution_count": 20,
   "metadata": {},
   "outputs": [
    {
     "name": "stdout",
     "output_type": "stream",
     "text": [
      "inside myDecorator.__init__()\n",
      "inside aFunction()\n",
      "inside myDecorator.__call__()\n"
     ]
    }
   ],
   "source": [
    "@myDecorator\n",
    "def aFunc():\n",
    "    print(\"inside aFunction()\")\n",
    "\n",
    "aFunc()"
   ]
  },
  {
   "cell_type": "markdown",
   "metadata": {},
   "source": [
    "用类的方式声明一个decorator：\n",
    "1. __init__，该方法是在给某个函数decorator时被调用，所以，需要有一个fn的参数，也就是被decorator的函数。\n",
    "2. __call__，这个方法是在我们调用被decorator函数时被调用的。\n",
    "上面输出可以看到整个程序的执行顺序。\n",
    "\n",
    "看上去比“函数式”的方式更易读一些。\n",
    "\n",
    "下面，我们来看看用类的方式来重写上面的html.py的代码："
   ]
  },
  {
   "cell_type": "code",
   "execution_count": 27,
   "metadata": {},
   "outputs": [],
   "source": [
    "class makeHtmlTagClass(object):\n",
    " \n",
    "    def __init__(self, tag, css_class=\"\"):\n",
    "        self._tag = tag\n",
    "        self._css_class = \"class='{0}'\".format(css_class) if css_class !=\"\" else \"\"\n",
    " \n",
    "    def __call__(self, fn):\n",
    "        def wrapped(*args, **kwargs):\n",
    "            return '<{0} {1}>{2}</{0}>'.format(self._tag, self._css_class, fn(*args, **kwargs))\n",
    "        return wrapped"
   ]
  },
  {
   "cell_type": "code",
   "execution_count": 28,
   "metadata": {},
   "outputs": [
    {
     "name": "stdout",
     "output_type": "stream",
     "text": [
      "<a class='bold_css'><b class='italic_css'><c class='italic_css'>Hello, Hao Chen</c></b></a>\n"
     ]
    }
   ],
   "source": [
    "@makeHtmlTag(tag=\"a\", css_class=\"bold_css\")\n",
    "@makeHtmlTag(tag=\"b\", css_class=\"italic_css\")\n",
    "@makeHtmlTag(tag=\"c\", css_class=\"italic_css\")\n",
    "def hello(name):\n",
    "    return \"Hello, {}\".format(name)\n",
    " \n",
    "print(hello(\"Hao Chen\"))"
   ]
  },
  {
   "cell_type": "markdown",
   "metadata": {},
   "source": [
    "注意：\n",
    "1. 若decorator有参数，__init__成员就不能传入fn，而是在__call__时传入。\n",
    "2. 此外，wrapped(*args, **kwargs) 这种方式来传递被decorator函数的参数。其中：args是一个参数列表，kwargs是参数dict，具体的细节，请参考Python的文档或是StackOverflow的这个问题，这里就不展开了"
   ]
  },
  {
   "cell_type": "markdown",
   "metadata": {},
   "source": [
    "# 用Decorator为函数传递参数"
   ]
  },
  {
   "cell_type": "markdown",
   "metadata": {},
   "source": [
    "三种方法："
   ]
  },
  {
   "cell_type": "markdown",
   "metadata": {},
   "source": [
    "- 第一种，约定好参数，直接修改参数"
   ]
  },
  {
   "cell_type": "code",
   "execution_count": 27,
   "metadata": {},
   "outputs": [
    {
     "name": "stdout",
     "output_type": "stream",
     "text": [
      "Hello!\n"
     ]
    }
   ],
   "source": [
    "def decorate_B(function):\n",
    "    def wrap_function(*args, **kwargs):\n",
    "        str = 'Hello!'\n",
    "        return function(str, *args, **kwargs)\n",
    "    return wrap_function\n",
    " \n",
    "@decorate_B\n",
    "def print_message_B(str, *args, **kwargs):\n",
    "    print(str)\n",
    " \n",
    "print_message_B()"
   ]
  },
  {
   "cell_type": "markdown",
   "metadata": {},
   "source": [
    "- 第二种，通过 **kwargs，该方法会在kwargs中注入参数。"
   ]
  },
  {
   "cell_type": "code",
   "execution_count": 26,
   "metadata": {},
   "outputs": [
    {
     "name": "stdout",
     "output_type": "stream",
     "text": [
      "Hello!\n"
     ]
    }
   ],
   "source": [
    "def decorate_A(function):\n",
    "    def wrap_function(*args, **kwargs):\n",
    "        kwargs['str'] = 'Hello!'\n",
    "        return function(*args, **kwargs)\n",
    "    return wrap_function\n",
    " \n",
    "@decorate_A\n",
    "def print_message_A(*args, **kwargs):\n",
    "    print(kwargs['str'])\n",
    " \n",
    "print_message_A()"
   ]
  },
  {
   "cell_type": "markdown",
   "metadata": {},
   "source": [
    "- 第三种，通过 *args 注入"
   ]
  },
  {
   "cell_type": "code",
   "execution_count": 28,
   "metadata": {},
   "outputs": [
    {
     "name": "stdout",
     "output_type": "stream",
     "text": [
      "Hello!\n"
     ]
    }
   ],
   "source": [
    "def decorate_C(function):\n",
    "    def wrap_function(*args, **kwargs):\n",
    "        str = 'Hello!'\n",
    "        #args.insert(1, str)\n",
    "        args = args +(str,)\n",
    "        return function(*args, **kwargs)\n",
    "    return wrap_function\n",
    " \n",
    "class Printer:\n",
    "    @decorate_C\n",
    "    def print_message(self, str, *args, **kwargs):\n",
    "        print(str)\n",
    " \n",
    "p = Printer()\n",
    "p.print_message()"
   ]
  },
  {
   "cell_type": "markdown",
   "metadata": {},
   "source": [
    "# Decorator的副作用"
   ]
  },
  {
   "cell_type": "markdown",
   "metadata": {},
   "source": [
    "被decorator的函数其实已经是另外一个函数了，对于最前面那个hello.py的例子来说，如果你查询一下foo.__name__的话，你会发现其输出的是“wrapper”，而不是我们期望的“foo”，这会给我们的程序埋一些坑。所以，Python的functool包中提供了一个叫wrap的decorator来消除这样的副作用。下面是我们新版本的hello.py。"
   ]
  },
  {
   "cell_type": "code",
   "execution_count": 29,
   "metadata": {},
   "outputs": [
    {
     "name": "stdout",
     "output_type": "stream",
     "text": [
      "hello, foo\n",
      "i am foo\n",
      "goodby, foo\n",
      "foo\n",
      "foo help doc\n"
     ]
    }
   ],
   "source": [
    "from functools import wraps\n",
    "def hello(fn):\n",
    "    @wraps(fn)\n",
    "    def wrapper():\n",
    "        print(\"hello, %s\" % fn.__name__)\n",
    "        fn()\n",
    "        print(\"goodby, %s\" % fn.__name__)\n",
    "    return wrapper\n",
    " \n",
    "@hello\n",
    "def foo():\n",
    "    '''foo help doc'''\n",
    "    print(\"i am foo\")\n",
    "    pass\n",
    " \n",
    "foo()\n",
    "print(foo.__name__) #输出 foo\n",
    "print(foo.__doc__)  #输出 foo help doc"
   ]
  },
  {
   "cell_type": "markdown",
   "metadata": {},
   "source": [
    "当然，即使是你用了functools的wraps，也不能完全消除这样的副作用。"
   ]
  },
  {
   "cell_type": "code",
   "execution_count": 36,
   "metadata": {},
   "outputs": [
    {
     "name": "stdout",
     "output_type": "stream",
     "text": [
      "Member Name: method\n",
      "Args: []\n"
     ]
    },
    {
     "name": "stderr",
     "output_type": "stream",
     "text": [
      "/Users/liuning11/anaconda3/envs/lr/lib/python3.6/site-packages/ipykernel_launcher.py:19: DeprecationWarning: inspect.getargspec() is deprecated, use inspect.signature() or inspect.getfullargspec()\n"
     ]
    }
   ],
   "source": [
    "from inspect import getmembers, getargspec\n",
    "from functools import wraps\n",
    " \n",
    "def wraps_decorator(f):\n",
    "    @wraps(f)\n",
    "    def wraps_wrapper(*args, **kwargs):\n",
    "        return f(*args, **kwargs)\n",
    "    return wraps_wrapper\n",
    " \n",
    "class SomeClass(object):\n",
    "    @wraps_decorator\n",
    "    def method(self, x, y):\n",
    "        pass\n",
    " \n",
    "obj = SomeClass()\n",
    "for name, func in getmembers(obj, predicate=inspect.ismethod):\n",
    "    print(\"Member Name: %s\" % name)\n",
    "    #print(\"Func Name: %s\" % func.func_name)\n",
    "    print(\"Args: %s\" % getargspec(func)[0])\n",
    " \n",
    "# 输出：\n",
    "# Member Name: method\n",
    "# Func Name: method\n",
    "# Args: []"
   ]
  },
  {
   "cell_type": "markdown",
   "metadata": {},
   "source": [
    "你会发现，即使是你你用了functools的wraps，你在用getargspec时，参数也不见了。\n",
    "\n",
    "要修正这一问，我们还得用Python的反射来解决，下面是相关的代码："
   ]
  },
  {
   "cell_type": "code",
   "execution_count": 37,
   "metadata": {},
   "outputs": [],
   "source": [
    "def get_true_argspec(method):\n",
    "    argspec = inspect.getargspec(method)\n",
    "    args = argspec[0]\n",
    "    if args and args[0] == 'self':\n",
    "        return argspec\n",
    "    if hasattr(method, '__func__'):\n",
    "        method = method.__func__\n",
    "    if not hasattr(method, 'func_closure') or method.func_closure is None:\n",
    "        raise Exception(\"No closure for method.\")\n",
    " \n",
    "    method = method.func_closure[0].cell_contents\n",
    "    return get_true_argspec(method)"
   ]
  },
  {
   "cell_type": "markdown",
   "metadata": {},
   "source": [
    "当然，我相信大多数人的程序都不会去getargspec。所以，用functools的wraps应该够用了。"
   ]
  },
  {
   "cell_type": "markdown",
   "metadata": {},
   "source": [
    "# 一些decorator的示例"
   ]
  },
  {
   "cell_type": "markdown",
   "metadata": {},
   "source": [
    "## 给函数调用做缓存"
   ]
  },
  {
   "cell_type": "markdown",
   "metadata": {},
   "source": [
    "这个示例实在是太经典了。"
   ]
  },
  {
   "cell_type": "code",
   "execution_count": 40,
   "metadata": {
    "scrolled": true
   },
   "outputs": [
    {
     "data": {
      "text/plain": [
       "55"
      ]
     },
     "execution_count": 40,
     "metadata": {},
     "output_type": "execute_result"
    }
   ],
   "source": [
    "from functools import wraps\n",
    "def memo(fn):\n",
    "    cache = {}\n",
    "    miss = object()\n",
    " \n",
    "    @wraps(fn)\n",
    "    def wrapper(*args):\n",
    "        result = cache.get(args, miss)\n",
    "        if result is miss:\n",
    "            result = fn(*args)\n",
    "            cache[args] = result\n",
    "        return result\n",
    " \n",
    "    return wrapper\n",
    " \n",
    "@memo\n",
    "def fib(n):\n",
    "    if n < 2:\n",
    "        return n\n",
    "    return fib(n - 1) + fib(n - 2)\n",
    "\n",
    "\n",
    "fib(10)"
   ]
  },
  {
   "cell_type": "markdown",
   "metadata": {},
   "source": [
    "这个斐波拉契数例的递归算法是相当没有效率的，因为会重复调用。比如：我们要计算fib(5)，于是其分解成fib(4) + fib(3)，而fib(4)分解成fib(3)+fib(2)，fib(3)又分解成fib(2)+fib(1)…… 你可看到，基本上来说，fib(3), fib(2), fib(1)在整个递归过程中被调用了两次。\n",
    "\n",
    "而我们用decorator，在调用函数前查询一下缓存，如果没有才调用了，有了就从缓存中返回值。一下子，这个递归从二叉树式的递归成了线性的递归。"
   ]
  },
  {
   "cell_type": "markdown",
   "metadata": {},
   "source": [
    "## Profiler的例子"
   ]
  },
  {
   "cell_type": "markdown",
   "metadata": {},
   "source": [
    "这个例子很实用。"
   ]
  },
  {
   "cell_type": "code",
   "execution_count": 49,
   "metadata": {},
   "outputs": [],
   "source": [
    "import cProfile, pstats\n",
    "from io import StringIO\n",
    " \n",
    "def profiler(func):\n",
    "    def wrapper(*args, **kwargs):\n",
    "        datafn = func.__name__ + \".profile\" # Name the data file\n",
    "        prof = cProfile.Profile()\n",
    "        retval = prof.runcall(func, *args, **kwargs)\n",
    "        #prof.dump_stats(datafn)\n",
    "        s = StringIO.StringIO()\n",
    "        sortby = 'cumulative'\n",
    "        ps = pstats.Stats(prof, stream=s).sort_stats(sortby)\n",
    "        ps.print_stats()\n",
    "        print(s.getvalue())\n",
    "        return retval\n",
    " \n",
    "    return wrapper"
   ]
  },
  {
   "cell_type": "markdown",
   "metadata": {},
   "source": [
    "## 注册回调函数"
   ]
  },
  {
   "cell_type": "markdown",
   "metadata": {},
   "source": [
    "下面这个示例展示了通过URL的路由来调用相关注册的函数示例："
   ]
  },
  {
   "cell_type": "code",
   "execution_count": 51,
   "metadata": {},
   "outputs": [
    {
     "name": "stdout",
     "output_type": "stream",
     "text": [
      "This is the main page.\n",
      "This is the next page.\n"
     ]
    }
   ],
   "source": [
    "class MyApp():\n",
    "    def __init__(self):\n",
    "        self.func_map = {}\n",
    " \n",
    "    def register(self, name):\n",
    "        def func_wrapper(func):\n",
    "            self.func_map[name] = func\n",
    "            return func\n",
    "        return func_wrapper\n",
    " \n",
    "    def call_method(self, name=None):\n",
    "        func = self.func_map.get(name, None)\n",
    "        if func is None:\n",
    "            raise Exception(\"No function registered against - \" + str(name))\n",
    "        return func()\n",
    " \n",
    "app = MyApp()\n",
    " \n",
    "@app.register('/')\n",
    "def main_page_func():\n",
    "    return \"This is the main page.\"\n",
    " \n",
    "@app.register('/next_page')\n",
    "def next_page_func():\n",
    "    return \"This is the next page.\"\n",
    " \n",
    "print(app.call_method('/'))\n",
    "print(app.call_method('/next_page'))"
   ]
  },
  {
   "cell_type": "markdown",
   "metadata": {},
   "source": [
    "注意：\n",
    "1. 上面这个示例中，用类的实例来做decorator。\n",
    "2. decorator类中没有__call__()，但是wrapper返回了原函数。所以，原函数没有发生任何变化。"
   ]
  },
  {
   "cell_type": "markdown",
   "metadata": {},
   "source": [
    "## 给函数打日志"
   ]
  },
  {
   "cell_type": "markdown",
   "metadata": {},
   "source": [
    "下面这个示例演示了一个logger的decorator，这个decorator输出了函数名，参数，返回值，和运行时间。"
   ]
  },
  {
   "cell_type": "code",
   "execution_count": 56,
   "metadata": {},
   "outputs": [
    {
     "name": "stdout",
     "output_type": "stream",
     "text": [
      "function      = multipy\n",
      "    arguments = (2, 10) {}\n",
      "    return    = 20\n",
      "    time      = 0.000001 sec\n",
      "20\n",
      "function      = sum_num\n",
      "    arguments = (100,) {}\n",
      "    return    = 5050\n",
      "    time      = 0.000009 sec\n",
      "5050\n",
      "function      = sum_num\n",
      "    arguments = (10000000,) {}\n",
      "    return    = 50000005000000\n",
      "    time      = 0.581515 sec\n",
      "50000005000000\n"
     ]
    }
   ],
   "source": [
    "from functools import wraps\n",
    "import time\n",
    "\n",
    "def logger(fn):\n",
    "    @wraps(fn)\n",
    "    def wrapper(*args, **kwargs):\n",
    "        ts = time.time()\n",
    "        result = fn(*args, **kwargs)\n",
    "        te = time.time()\n",
    "        print(\"function      = {0}\".format(fn.__name__))\n",
    "        print(\"    arguments = {0} {1}\".format(args, kwargs))\n",
    "        print(\"    return    = {0}\".format(result))\n",
    "        print(\"    time      = %.6f sec\" % (te-ts))\n",
    "        return result\n",
    "    return wrapper\n",
    " \n",
    "@logger\n",
    "def multipy(x, y):\n",
    "    return x * y\n",
    " \n",
    "@logger\n",
    "def sum_num(n):\n",
    "    s = 0\n",
    "    for i in range(n+1):\n",
    "        s += i\n",
    "    return s\n",
    " \n",
    "print(multipy(2, 10))\n",
    "print(sum_num(100))\n",
    "print(sum_num(10000000))"
   ]
  },
  {
   "cell_type": "markdown",
   "metadata": {},
   "source": [
    "下面看一个带log level参数的："
   ]
  },
  {
   "cell_type": "code",
   "execution_count": 67,
   "metadata": {},
   "outputs": [
    {
     "name": "stdout",
     "output_type": "stream",
     "text": [
      "function   = multipy\n",
      "    arguments = (2, 10) {}\n",
      "    return    = 20\n",
      "    time      = 0.000001 sec\n",
      "    called_from_line : 34\n",
      "20\n",
      "function   = sum_num\n",
      "    arguments = (100,) {}\n",
      "    return    = 5050\n",
      "    time      = 0.000008 sec\n",
      "    called_from_line : 35\n",
      "5050\n"
     ]
    }
   ],
   "source": [
    "import inspect\n",
    "\n",
    "def get_line_number():\n",
    "    return inspect.currentframe().f_back.f_back.f_lineno\n",
    " \n",
    "def logger(loglevel):\n",
    "    def log_decorator(fn):\n",
    "        @wraps(fn)\n",
    "        def wrapper(*args, **kwargs):\n",
    "            ts = time.time()\n",
    "            result = fn(*args, **kwargs)\n",
    "            te = time.time()\n",
    "            print(\"function   = \" + fn.__name__)\n",
    "            print(\"    arguments = {0} {1}\".format(args, kwargs))\n",
    "            print(\"    return    = {0}\".format(result))\n",
    "            print(\"    time      = %.6f sec\" % (te-ts))\n",
    "            if (loglevel == 'debug'):\n",
    "                print(\"    called_from_line : \" + str(get_line_number()))\n",
    "            return result\n",
    "        return wrapper\n",
    "    return log_decorator\n",
    "\n",
    "@logger('debug')\n",
    "def multipy(x, y):\n",
    "    return x * y\n",
    " \n",
    "@logger('debug')\n",
    "def sum_num(n):\n",
    "    s = 0\n",
    "    for i in range(n+1):\n",
    "        s += i\n",
    "    return s\n",
    " \n",
    "print(multipy(2, 10))\n",
    "print(sum_num(100))"
   ]
  },
  {
   "cell_type": "markdown",
   "metadata": {},
   "source": [
    "但是，上面这个带log level参数的有两具不好的地方，\n",
    "1. loglevel不是debug的时候，还是要计算函数调用的时间。\n",
    "2. 不同level的要写在一起，不易读。\n",
    "我们再接着改进："
   ]
  },
  {
   "cell_type": "code",
   "execution_count": 66,
   "metadata": {},
   "outputs": [
    {
     "name": "stdout",
     "output_type": "stream",
     "text": [
      "function   = multipy\n",
      "    arguments = ((2, 10), {}) {}\n",
      "    return    = 20\n",
      "    time      = 0.000001 sec\n",
      "    called_from_line : 47\n",
      "None\n",
      "function   = sum_num\n",
      "    arguments = ((100,), {}) {}\n",
      "    return    = 5050\n",
      "None\n"
     ]
    }
   ],
   "source": [
    "import inspect\n",
    " \n",
    "def advance_logger(loglevel):\n",
    " \n",
    "    def get_line_number():\n",
    "        return inspect.currentframe().f_back.f_back.f_lineno\n",
    " \n",
    "    def _basic_log(fn, result, *args, **kwargs):\n",
    "        print(\"function   = \" + fn.__name__)\n",
    "        print(\"    arguments = {0} {1}\".format(args, kwargs))\n",
    "        print(\"    return    = {0}\".format(result))\n",
    " \n",
    "    def info_log_decorator(fn):\n",
    "        @wraps(fn)\n",
    "        def wrapper(*args, **kwargs):\n",
    "            result = fn(*args, **kwargs)\n",
    "            _basic_log(fn, result, args, kwargs)\n",
    "        return wrapper\n",
    " \n",
    "    def debug_log_decorator(fn):\n",
    "        @wraps(fn)\n",
    "        def wrapper(*args, **kwargs):\n",
    "            ts = time.time()\n",
    "            result = fn(*args, **kwargs)\n",
    "            te = time.time()\n",
    "            _basic_log(fn, result, args, kwargs)\n",
    "            print(\"    time      = %.6f sec\" % (te-ts))\n",
    "            print(\"    called_from_line : \" + str(get_line_number()))\n",
    "        return wrapper\n",
    " \n",
    "    if loglevel is \"debug\":\n",
    "        return debug_log_decorator\n",
    "    else:\n",
    "        return info_log_decorator\n",
    "    \n",
    "@advance_logger('debug')\n",
    "def multipy(x, y):\n",
    "    return x * y\n",
    " \n",
    "@advance_logger('')\n",
    "def sum_num(n):\n",
    "    s = 0\n",
    "    for i in range(n+1):\n",
    "        s += i\n",
    "    return s\n",
    " \n",
    "print(multipy(2, 10))\n",
    "print(sum_num(100))"
   ]
  },
  {
   "cell_type": "markdown",
   "metadata": {},
   "source": [
    "你可以看到两点，\n",
    "1. 我们分了两个log level，一个是info的，一个是debug的，然后我们在外尾根据不同的参数返回不同的decorator。\n",
    "2. 我们把info和debug中的相同的代码抽到了一个叫_basic_log的函数里，DRY原则。"
   ]
  },
  {
   "cell_type": "markdown",
   "metadata": {},
   "source": [
    "## 一个MySQL的Decorator"
   ]
  },
  {
   "cell_type": "markdown",
   "metadata": {},
   "source": [
    "下面这个decorator是我在工作中用到的代码，我简化了一下，把DB连接池的代码去掉了，这样能简单点，方便阅读。"
   ]
  },
  {
   "cell_type": "code",
   "execution_count": null,
   "metadata": {},
   "outputs": [],
   "source": [
    "import umysql\n",
    "from functools import wraps\n",
    " \n",
    "class Configuraion:\n",
    "    def __init__(self, env):\n",
    "        if env == \"Prod\":\n",
    "            self.host    = \"coolshell.cn\"\n",
    "            self.port    = 3306\n",
    "            self.db      = \"coolshell\"\n",
    "            self.user    = \"coolshell\"\n",
    "            self.passwd  = \"fuckgfw\"\n",
    "        elif env == \"Test\":\n",
    "            self.host   = 'localhost'\n",
    "            self.port   = 3300\n",
    "            self.user   = 'coolshell'\n",
    "            self.db     = 'coolshell'\n",
    "            self.passwd = 'fuckgfw'\n",
    " \n",
    "def mysql(sql):\n",
    " \n",
    "    _conf = Configuraion(env=\"Prod\")\n",
    " \n",
    "    def on_sql_error(err):\n",
    "        print err\n",
    "        sys.exit(-1)\n",
    " \n",
    "    def handle_sql_result(rs):\n",
    "        if rs.rows > 0:\n",
    "            fieldnames = [f[0] for f in rs.fields]\n",
    "            return [dict(zip(fieldnames, r)) for r in rs.rows]\n",
    "        else:\n",
    "            return []\n",
    " \n",
    "    def decorator(fn):\n",
    "        @wraps(fn)\n",
    "        def wrapper(*args, **kwargs):\n",
    "            mysqlconn = umysql.Connection()\n",
    "            mysqlconn.settimeout(5)\n",
    "            mysqlconn.connect(_conf.host, _conf.port, _conf.user, \\\n",
    "                              _conf.passwd, _conf.db, True, 'utf8')\n",
    "            try:\n",
    "                rs = mysqlconn.query(sql, {})\n",
    "            except umysql.Error as e:\n",
    "                on_sql_error(e)\n",
    " \n",
    "            data = handle_sql_result(rs)\n",
    "            kwargs[\"data\"] = data\n",
    "            result = fn(*args, **kwargs)\n",
    "            mysqlconn.close()\n",
    "            return result\n",
    "        return wrapper\n",
    " \n",
    "    return decorator\n",
    " \n",
    "@mysql(sql = \"select * from coolshell\" )\n",
    "def get_coolshell(data):\n",
    "    ... ...\n",
    "    ... .."
   ]
  },
  {
   "cell_type": "markdown",
   "metadata": {},
   "source": [
    "## 线程异步"
   ]
  },
  {
   "cell_type": "markdown",
   "metadata": {},
   "source": [
    "下面量个非常简单的异步执行的decorator，注意，异步处理并不简单，下面只是一个示例。"
   ]
  },
  {
   "cell_type": "code",
   "execution_count": null,
   "metadata": {},
   "outputs": [],
   "source": [
    "from threading import Thread\n",
    "from functools import wraps\n",
    " \n",
    "def async(func):\n",
    "    @wraps(func)\n",
    "    def async_func(*args, **kwargs):\n",
    "        func_hl = Thread(target = func, args = args, kwargs = kwargs)\n",
    "        func_hl.start()\n",
    "        return func_hl\n",
    " \n",
    "    return async_func\n",
    " \n",
    "if __name__ == '__main__':\n",
    "    from time import sleep\n",
    " \n",
    "    @async\n",
    "    def print_somedata():\n",
    "        print 'starting print_somedata'\n",
    "        sleep(2)\n",
    "        print 'print_somedata: 2 sec passed'\n",
    "        sleep(2)\n",
    "        print 'print_somedata: 2 sec passed'\n",
    "        sleep(2)\n",
    "        print 'finished print_somedata'\n",
    " \n",
    "    def main():\n",
    "        print_somedata()\n",
    "        print 'back in main'\n",
    "        print_somedata()\n",
    "        print 'back in main'\n",
    " \n",
    "    main()"
   ]
  },
  {
   "cell_type": "markdown",
   "metadata": {},
   "source": [
    "## 其它"
   ]
  },
  {
   "cell_type": "markdown",
   "metadata": {},
   "source": [
    "关于更多的示例，你可以参看： [Python Decorator Library](https://wiki.python.org/moin/PythonDecoratorLibrary)\n",
    "\n",
    "关于Python Decroator的各种提案，可以参看：[Python Decorator Proposals](https://wiki.python.org/moin/PythonDecoratorProposals)\n",
    "\n",
    "（全文完）"
   ]
  },
  {
   "cell_type": "code",
   "execution_count": null,
   "metadata": {},
   "outputs": [],
   "source": []
  }
 ],
 "metadata": {
  "kernelspec": {
   "display_name": "Python 3",
   "language": "python",
   "name": "python3"
  },
  "language_info": {
   "codemirror_mode": {
    "name": "ipython",
    "version": 3
   },
   "file_extension": ".py",
   "mimetype": "text/x-python",
   "name": "python",
   "nbconvert_exporter": "python",
   "pygments_lexer": "ipython3",
   "version": "3.6.5"
  }
 },
 "nbformat": 4,
 "nbformat_minor": 2
}
